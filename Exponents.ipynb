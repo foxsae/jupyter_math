{
 "cells": [
  {
   "cell_type": "code",
   "execution_count": 41,
   "id": "3ccd4f18",
   "metadata": {},
   "outputs": [
    {
     "data": {
      "text/latex": [
       "$\\displaystyle 16^\\frac{1}{4} = 2$"
      ],
      "text/plain": [
       "<IPython.core.display.Math object>"
      ]
     },
     "metadata": {},
     "output_type": "display_data"
    },
    {
     "data": {
      "text/latex": [
       "$\\displaystyle 2^{-4} = \\frac{0.0625}{0}$"
      ],
      "text/plain": [
       "<IPython.core.display.Math object>"
      ]
     },
     "metadata": {},
     "output_type": "display_data"
    }
   ],
   "source": [
    "from IPython.display import display, Math\n",
    "from  fractions import Fraction\n",
    "\n",
    "ans = 16**(1/4)\n",
    "4**(1/2)\n",
    "9**(1/2)\n",
    "8**(1/3)\n",
    "xp = -4\n",
    "ans2 = 2**(xp)\n",
    "\n",
    "display(Math('16^\\\\frac{1}{4} = %g' %ans))\n",
    "\n",
    "# WRONG should display 1/16 not 0.0625/0\n",
    "display(Math('2^{%g} = \\\\frac{%g}{0}' %(xp, ans2) ))"
   ]
  },
  {
   "cell_type": "code",
   "execution_count": 49,
   "id": "b4c1deb8",
   "metadata": {},
   "outputs": [
    {
     "data": {
      "text/latex": [
       "$\\displaystyle x^\\frac{3}{4} \\times 4^y = 3933.09$"
      ],
      "text/plain": [
       "<IPython.core.display.Math object>"
      ]
     },
     "metadata": {},
     "output_type": "display_data"
    },
    {
     "data": {
      "text/latex": [
       "$\\displaystyle \\frac{3^3}{x^y} = 0.00735558$"
      ],
      "text/plain": [
       "<IPython.core.display.Math object>"
      ]
     },
     "metadata": {},
     "output_type": "display_data"
    },
    {
     "data": {
      "text/latex": [
       "$\\displaystyle 10^{x-4} = 10$"
      ],
      "text/plain": [
       "<IPython.core.display.Math object>"
      ]
     },
     "metadata": {},
     "output_type": "display_data"
    }
   ],
   "source": [
    "x = 5\n",
    "y = 5.1\n",
    "\n",
    "\n",
    "ans = x**(3/4) * (4**y)\n",
    "#1) \n",
    "display(Math('x^\\\\frac{3}{4} \\\\times 4^y = %g' %ans))\n",
    "\n",
    "ans2 = 3**3 / x**y\n",
    "#2)\n",
    "display(Math('\\\\frac{3^3}{x^y} = %g' %ans2))\n",
    "\n",
    "ans3 = 10**(x-4) \n",
    "display(Math('10^{x-4} = %g' %ans3))"
   ]
  }
 ],
 "metadata": {
  "kernelspec": {
   "display_name": "Python 3 (ipykernel)",
   "language": "python",
   "name": "python3"
  },
  "language_info": {
   "codemirror_mode": {
    "name": "ipython",
    "version": 3
   },
   "file_extension": ".py",
   "mimetype": "text/x-python",
   "name": "python",
   "nbconvert_exporter": "python",
   "pygments_lexer": "ipython3",
   "version": "3.9.7"
  }
 },
 "nbformat": 4,
 "nbformat_minor": 5
}
