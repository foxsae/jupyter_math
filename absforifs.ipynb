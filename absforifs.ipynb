{
 "cells": [
  {
   "cell_type": "code",
   "execution_count": 5,
   "id": "4649af10",
   "metadata": {},
   "outputs": [
    {
     "data": {
      "text/latex": [
       "$\\displaystyle |-4.3| = 4.3$"
      ],
      "text/plain": [
       "<IPython.core.display.Math object>"
      ]
     },
     "metadata": {},
     "output_type": "display_data"
    }
   ],
   "source": [
    "from IPython.display import display, Math\n",
    "x = -4.3\n",
    "display(Math('|%g| = %g' %(x, abs(x)) ))"
   ]
  },
  {
   "cell_type": "code",
   "execution_count": 17,
   "id": "9d0e66f1",
   "metadata": {},
   "outputs": [
    {
     "name": "stdout",
     "output_type": "stream",
     "text": [
      "-4 was not tested.\n",
      "Absolute value of 6 is 6.\n",
      "-1 was not tested.\n",
      "Absolute value of 43 is 43.\n",
      "Absolute value of -18 is 18.\n",
      "2 was not tested.\n",
      "0 was not tested.\n"
     ]
    }
   ],
   "source": [
    "s = [-4, 6, -1, 43, -18, 2, 0]\n",
    "\n",
    "for i in s:\n",
    "    if i < -5 or i > 2:\n",
    "        print('Absolute value of %g is %g.' %(i, abs(i)))\n",
    "    else:\n",
    "        print( str(i) + ' was not tested.')"
   ]
  },
  {
   "cell_type": "code",
   "execution_count": 20,
   "id": "65d36d52",
   "metadata": {},
   "outputs": [
    {
     "data": {
      "text/plain": [
       "3"
      ]
     },
     "execution_count": 20,
     "metadata": {},
     "output_type": "execute_result"
    }
   ],
   "source": [
    "a = 10\n",
    "b = 3\n",
    "int(a/b)"
   ]
  },
  {
   "cell_type": "code",
   "execution_count": 38,
   "id": "9fb31bd4",
   "metadata": {},
   "outputs": [
    {
     "name": "stdout",
     "output_type": "stream",
     "text": [
      "-5  is an odd  number\n",
      "-4  is an even number\n",
      "-3  is an odd  number\n",
      "-2  is an even number\n",
      "-1  is an odd  number\n",
      " 0  is an even number\n",
      " 1  is an odd  number\n",
      " 2  is an even number\n",
      " 3  is an odd  number\n",
      " 4  is an even number\n",
      " 5  is an odd  number\n"
     ]
    }
   ],
   "source": [
    "for num in range(-5, 6):\n",
    "    if num % 2 == 0:\n",
    "        if num < 0:\n",
    "            print(str(num) + \"  is an even number\")\n",
    "        else:\n",
    "            print(\" \" + str(num) + \"  is an even number\")\n",
    "    else:\n",
    "        if num >= 0:\n",
    "            print(\" \" + str(num) + \"  is an odd  number\")\n",
    "        else:\n",
    "            print(str(num) + \"  is an odd  number\")"
   ]
  }
 ],
 "metadata": {
  "kernelspec": {
   "display_name": "Python 3 (ipykernel)",
   "language": "python",
   "name": "python3"
  },
  "language_info": {
   "codemirror_mode": {
    "name": "ipython",
    "version": 3
   },
   "file_extension": ".py",
   "mimetype": "text/x-python",
   "name": "python",
   "nbconvert_exporter": "python",
   "pygments_lexer": "ipython3",
   "version": "3.9.7"
  }
 },
 "nbformat": 4,
 "nbformat_minor": 5
}
